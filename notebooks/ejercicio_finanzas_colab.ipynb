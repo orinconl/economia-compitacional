# ================================================================
# Ejercicio de clase: Análisis intradía de un activo bursátil
# (Colab, una sola celda, listo para ejecutar)
# ================================================================

# Por qué hacemos esto:
# - Descargamos precios intradía (cada 5 minutos) para un día reciente.
# - Calculamos rendimientos porcentuales y observamos la volatilidad.
# - Vemos por qué estos indicadores importan para la toma de decisiones.

# --------------------------
# 1) Librerías e instalación
# --------------------------
# Colab ya trae pandas y matplotlib; yfinance suele estar disponible.
# Aseguramos la instalación silenciosa por si falta:
import sys, subprocess, importlib
def ensure(pkg):
    try:
        importlib.import_module(pkg)
    except ImportError:
        subprocess.check_call([sys.executable, "-m", "pip", "install", "-q", pkg])

ensure("yfinance")
ensure("pandas")
ensure("matplotlib")

import pandas as pd
import yfinance as yf
import matplotlib.pyplot as plt
from datetime import datetime, timezone

print("Librerías listas.")

# -----------------------------------
# 2) Parámetros del ejercicio (fáciles)
# -----------------------------------
# Puedes cambiar el ticker por MSFT, TSLA, NVDA, AVAL (si está), etc.
ticker = "AAPL"           # Activo a analizar
intervalo = "5m"          # Resolución intradía: 1m, 2m, 5m, 15m, etc.
periodo = "1d"            # Un día de datos recientes

# -----------------------------
# 3) Descarga de datos intradía
# -----------------------------
print(f"\nDescargando {ticker} intradía ({periodo}, {intervalo}) desde Yahoo Finance...")
df = yf.download(ticker, period=periodo, interval=intervalo, progress=False)

if df.empty:
    raise RuntimeError(
        "No llegaron datos. Posibles causas: mercado cerrado, símbolo no soportado "
        "para intradía o límites de Yahoo. Prueba otro ticker o un periodo mayor "
        "(p. ej. period='5d') con el mismo intervalo."
    )

# Aseguramos índice en zona horaria consciente (si aplica):
if df.index.tz is None:
    df.index = df.index.tz_localize(timezone.utc)
df = df.sort_index()

print(f"Registros: {len(df)}")
print("Columnas:", list(df.columns))

# -------------------------------------------------
# 4) Intuición de las columnas de un OHLCV intradía
# -------------------------------------------------
# Open: primer precio del intervalo (apertura de esos 5 minutos)
# High: precio máximo alcanzado en el intervalo
# Low : precio mínimo del intervalo
# Close: último precio del intervalo (cierre de esos 5 minutos)
# Volume: número de acciones negociadas en ese intervalo

# ---------------------------------------
# 5) Cálculo de rendimientos porcentuales
# ---------------------------------------
# Rendimiento_t (%) = 100 * (Close_t - Close_{t-1}) / Close_{t-1}
df["Return_%"] = df["Close"].pct_change() * 100

# -------------------------
# 6) Resúmenes e indicadores
# -------------------------
precio_cierre_inicial = df["Close"].iloc[0]
precio_cierre_final = df["Close"].iloc[-1]
ret_total_pct = (precio_cierre_final / precio_cierre_inicial - 1) * 100
vol_intradia = df["Return_%"].std()

print("\nResumen intradía")
print("-----------------")
print(f"Precio inicio      : {precio_cierre_inicial:,.2f} USD")
print(f"Precio fin         : {precio_cierre_final:,.2f} USD")
print(f"Retorno total día  : {ret_total_pct:,.3f} %")
print(f"Volatilidad (desv. estándar de retornos 5m): {vol_intradia:,.3f} %")

# ---------------------------------------
# 7) Gráficos para lectura e interpretación
# ---------------------------------------
plt.figure(figsize=(12, 4.5))
plt.plot(df.index, df["Close"], label=f"{ticker} - Cierre")
plt.title(f"Evolución intradía del precio de cierre ({ticker})")
plt.xlabel("Tiempo")
plt.ylabel("Precio (USD)")
plt.grid(True, alpha=0.3)
plt.legend()
plt.show()

plt.figure(figsize=(12, 4.5))
plt.plot(df.index, df["Return_%"], label="Retorno (%)", linewidth=1)
plt.axhline(0, color="black", linewidth=0.8)
plt.title(f"Rendimientos porcentuales intradía ({intervalo}) - {ticker}")
plt.xlabel("Tiempo")
plt.ylabel("Retorno %")
plt.grid(True, alpha=0.3)
plt.legend()
plt.show()

# -------------------------------------------------------
# 8) Interpretación (qué mirar y por qué importa en bolsa)
# -------------------------------------------------------
print("\nCómo leer los gráficos:")
print("• Tendencia de precios: subidas o bajadas sostenidas sugieren presión compradora/vendedora.")
print("• Picos en retornos: señalan saltos de precio en pocos minutos (noticias, apertura, anuncios).")
print("• Volatilidad intradía alta: mayor riesgo/variabilidad; relevante para operadores y gestores de riesgo.")
print("• Volúmenes (si los graficas) ayudan a entender si los movimientos vinieron con participación amplia.")

# ------------------------------------------------
# 9) Mini tarea de clase (para los estudiantes)
# ------------------------------------------------
print("\nTarea sugerida:")
print("1) Cambia el 'ticker' (ej.: MSFT, TSLA, NVDA) y repite el análisis.")
print("2) Compara la volatilidad intradía (std de Return_%) entre dos activos.")
print("3) Identifica en qué franjas horarias se concentra más movimiento.")
print("4) Resume en 5–8 líneas qué hallaste y qué implicaciones tendría para un operador intradía.")

print("\nEJERCICIO COMPLETADO.")
