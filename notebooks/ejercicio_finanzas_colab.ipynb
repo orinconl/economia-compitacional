{
 "cells": [
  {
   "cell_type": "markdown",
   "metadata": {},
   "source": [
    "# Análisis Intradía de una Acción Bursátil\n",
    "\n",
    "Este ejercicio ilustra cómo descargar y analizar precios **intradía** de una acción (por ejemplo, Apple Inc.) usando datos de Yahoo Finance.\n",
    "\n",
    "Analizaremos precios cada 5 minutos, calcularemos rendimientos, y exploraremos la volatilidad de un día bursátil.\n",
    "\n",
    "Este notebook está diseñado para usarse en Google Colab o Binder dentro del curso **Economía Computacional (Especialización en Econometría)**."
   ]
  },
  {
   "cell_type": "code",
   "execution_count": null,
   "metadata": {},
   "outputs": [],
   "source": [
    "# ====== 1. Importar librerías ======\n",
    "# pandas: manipulación de datos en tablas (dataframes)\n",
    "# yfinance: descarga de datos financieros desde Yahoo Finance\n",
    "# matplotlib: creación de gráficos\n",
    "import pandas as pd\n",
    "import yfinance as yf\n",
    "import matplotlib.pyplot as plt\n",
    "from datetime import datetime\n",
    "\n",
    "print('Librerías cargadas correctamente.')"
   ]
  },
  {
   "cell_type": "markdown",
   "metadata": {},
   "source": [
    "## 2. Descargar datos intradía\n",
    "Vamos a obtener precios de **Apple Inc. (AAPL)** durante un día reciente.\n",
    "El intervalo será de 5 minutos para capturar los movimientos de la jornada bursátil."
   ]
  },
  {
   "cell_type": "code",
   "execution_count": null,
   "metadata": {},
   "outputs": [],
   "source": [
    "# Definir símbolo y rango de fechas\n",
    "ticker = 'AAPL'  # símbolo bursátil de Apple\n",
    "data = yf.download(ticker, period='1d', interval='5m')\n",
    "data.head()"
   ]
  },
  {
   "cell_type": "markdown",
   "metadata": {},
   "source": [
    "## 3. Descripción e intuición\n",
    "- Cada fila representa el precio de apertura (Open), máximo (High), mínimo (Low) y cierre (Close) cada 5 minutos.\n",
    "- En los mercados, los precios cambian constantemente debido a la interacción entre oferta y demanda.\n",
    "- Estos movimientos reflejan la **volatilidad intradía**, un indicador del riesgo y la actividad del mercado."
   ]
  },
  {
   "cell_type": "code",
   "execution_count": null,
   "metadata": {},
   "outputs": [],
   "source": [
    "# Mostrar tamaño del dataset y resumen\n",
    "print(f'Registros descargados: {len(data)}')\n",
    "print('\\nVariables disponibles:')\n",
    "print(list(data.columns))\n",
    "print('\\nResumen estadístico:')\n",
    "print(data.describe())"
   ]
  },
  {
   "cell_type": "markdown",
   "metadata": {},
   "source": [
    "## 4. Calcular rendimientos (returns)\n",
    "Los **rendimientos** miden el cambio porcentual del precio de cierre entre dos periodos consecutivos.\n",
    "\n",
    "Intuitivamente, indican la ganancia o pérdida relativa en un intervalo corto."
   ]
  },
  {
   "cell_type": "code",
   "execution_count": null,
   "metadata": {},
   "outputs": [],
   "source": [
    "data['Return'] = data['Close'].pct_change() * 100\n",
    "data[['Close', 'Return']].head()"
   ]
  },
  {
   "cell_type": "markdown",
   "metadata": {},
   "source": [
    "## 5. Graficar precios y rendimientos\n",
    "Visualizar los precios permite observar tendencias, mientras que los rendimientos muestran la variabilidad minuto a minuto."
   ]
  },
  {
   "cell_type": "code",
   "execution_count": null,
   "metadata": {},
   "outputs": [],
   "source": [
    "plt.figure(figsize=(12,5))\n",
    "plt.plot(data.index, data['Close'], label='Precio de Cierre', color='blue')\n",
    "plt.title('Evolución intradía del precio de cierre de Apple (AAPL)')\n",
    "plt.xlabel('Hora')\n",
    "plt.ylabel('Precio (USD)')\n",
    "plt.legend()\n",
    "plt.grid(True)\n",
    "plt.show()\n",
    "\n",
    "# Graficar rendimientos\n",
    "plt.figure(figsize=(12,5))\n",
    "plt.plot(data.index, data['Return'], color='red')\n",
    "plt.title('Rendimientos porcentuales intradía de AAPL')\n",
    "plt.xlabel('Hora')\n",
    "plt.ylabel('Rendimiento (%)')\n",
    "plt.grid(True)\n",
    "plt.show()"
   ]
  },
  {
   "cell_type": "markdown",
   "metadata": {},
   "source": [
    "## 6. Interpretación económica\n",
    "1. **Picos pronunciados** → mayor volatilidad, reflejando noticias o reacciones del mercado.\n",
    "2. **Tramos planos** → periodos de estabilidad o bajo volumen.\n",
    "3. Para un operador, esta información ayuda a decidir cuándo comprar o vender.\n",
    "4. Para un economista, la volatilidad revela cómo las expectativas se ajustan en el corto plazo."
   ]
  },
  {
   "cell_type": "markdown",
   "metadata": {},
   "source": [
    "## 7. Ejercicio práctico\n",
    "Repite el análisis con otro activo financiero (por ejemplo, **MSFT**, **TSLA** o **Bancolombia** si está disponible en Yahoo Finance).\n",
    "\n",
    "1. Cambia el símbolo `ticker`.\n",
    "2. Descarga precios intradía.\n",
    "3. Calcula y grafica los rendimientos.\n",
    "4. Compara los niveles de volatilidad.\n",
    "\n",
    "Reflexiona: ¿qué factores podrían explicar las diferencias en el comportamiento intradía de cada activo?"
   ]
  },
  {
   "cell_type": "markdown",
   "metadata": {},
   "source": [
    "---\n",
    "**Fin del ejercicio.**\n",
    "\n",
    "Este notebook se puede ejecutar directamente desde Colab o Binder y forma parte del módulo de **Series Financieras Intradía** del curso de Economía Computacional."
   ]
  }
 ],
 "metadata": {
  "kernelspec": {
   "display_name": "Python 3",
   "language": "python",
   "name": "python3"
  },
  "language_info": {
   "name": "python",
   "version": "3.x"
  },
  "colab": {
   "name": "Ejercicio Finanzas Intradía",
   "provenance": []
  }
 },
 "nbformat": 4,
 "nbformat_minor": 2
}
