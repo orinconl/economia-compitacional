# ================================================================
# Ejercicio completo: Análisis financiero intradía
# Curso: Economía Computacional - Series de tiempo financieras
# Autor: Oscar Leonardo Rincón
# ================================================================

# ------------------------------------------------
# 1. Introducción
# ------------------------------------------------
# En este ejercicio se estudia el comportamiento intradía
# (dentro del mismo día) de una acción bursátil.
# El objetivo es comprender cómo varían los precios minuto a minuto,
# cómo se calculan los retornos, qué significa la volatilidad
# y cómo se interpretan estos movimientos en el contexto
# de la toma de decisiones financieras.

# ------------------------------------------------
# 2. Importar librerías necesarias
# ------------------------------------------------
import pandas as pd
import numpy as np
import matplotlib.pyplot as plt
import seaborn as sns
import yfinance as yf

plt.style.use('seaborn-v0_8-whitegrid')

# ------------------------------------------------
# 3. Descargar datos intradía de una acción
# ------------------------------------------------
# Se descargan los datos de Apple (AAPL) del último día disponible
# con intervalos de 5 minutos.
# Esta frecuencia permite observar cómo varía el precio
# en diferentes momentos del día.
ticker = "AAPL"
data = yf.download(ticker, period="1d", interval="5m")

# Mostrar estructura de los datos
print("Estructura general de los datos:")
print(data.info())
print("\nPrimeras observaciones:")
print(data.head())

# ------------------------------------------------
# 4. Explicación de las variables
# ------------------------------------------------
# - Open: precio al inicio de cada intervalo de 5 minutos.
# - High: precio máximo alcanzado durante el intervalo.
# - Low: precio mínimo alcanzado durante el intervalo.
# - Close: precio al cierre del intervalo.
# - Volume: número de acciones negociadas en ese lapso.
#
# Ejemplo numérico:
# Si en un intervalo de 5 minutos el precio abrió en 188.50,
# subió hasta 189.00, bajó hasta 188.20 y cerró en 188.75,
# el resumen será:
# Open=188.50, High=189.00, Low=188.20, Close=188.75.

# ------------------------------------------------
# 5. Gráfico del precio de cierre
# ------------------------------------------------
plt.figure(figsize=(10, 5))
plt.plot(data.index, data["Close"], color="steelblue", linewidth=2)
plt.title(f"Precio de cierre intradía de {ticker}")
plt.xlabel("Hora")
plt.ylabel("Precio (USD)")
plt.xticks(rotation=45)
plt.tight_layout()
plt.show()

# Intuición:
# Este gráfico permite visualizar la tendencia del precio a lo largo del día.
# Si la línea es ascendente, hay presión compradora (demanda alta).
# Si es descendente, predomina la venta (oferta alta).

# ------------------------------------------------
# 6. Cálculo de retornos porcentuales
# ------------------------------------------------
# El retorno mide el cambio relativo del precio con respecto al periodo anterior.
# Fórmula: retorno_t = ((P_t / P_{t-1}) - 1) * 100
data["Retorno (%)"] = data["Close"].pct_change() * 100

# Ejemplo numérico:
# Si el precio pasó de 188.50 a 188.75:
# Retorno = ((188.75 / 188.50) - 1) * 100 = 0.13%
print("\nResumen de retornos:")
print(data["Retorno (%)"].describe())

# ------------------------------------------------
# 7. Análisis de volatilidad
# ------------------------------------------------
# La volatilidad mide la dispersión de los retornos, es decir,
# qué tan variable o inestable ha sido el precio.
volatilidad = data["Retorno (%)"].std()
media_retorno = data["Retorno (%)"].mean()

print(f"\nPromedio de retorno intradía: {media_retorno:.4f}%")
print(f"Volatilidad intradía aproximada: {volatilidad:.4f}%")

# Intuición:
# Una volatilidad alta implica movimientos bruscos y mayor riesgo.
# En cambio, una volatilidad baja indica estabilidad de precios.

# ------------------------------------------------
# 8. Gráfico de retornos
# ------------------------------------------------
plt.figure(figsize=(10, 5))
plt.plot(data.index, data["Retorno (%)"], color="orange", linewidth=1.8)
plt.title(f"Retornos intradía de {ticker}")
plt.xlabel("Hora")
plt.ylabel("Retorno (%)")
plt.axhline(0, color="gray", linestyle="--")
plt.tight_layout()
plt.show()

# Interpretación:
# - Valores positivos representan subidas del precio.
# - Valores negativos representan caídas.
# - Zonas con mucha oscilación son períodos de alta volatilidad.

# ------------------------------------------------
# 9. Medias móviles
# ------------------------------------------------
# Las medias móviles suavizan la serie para identificar tendencias.
# Se usa una ventana de 3 y 6 intervalos de 5 minutos.
data["MA_3"] = data["Close"].rolling(window=3).mean()
data["MA_6"] = data["Close"].rolling(window=6).mean()

plt.figure(figsize=(10, 5))
plt.plot(data.index, data["Close"], label="Precio", color="lightgray")
plt.plot(data.index, data["MA_3"], label="Media móvil (3)", color="blue")
plt.plot(data.index, data["MA_6"], label="Media móvil (6)", color="red")
plt.title(f"Tendencia intradía de {ticker}")
plt.xlabel("Hora")
plt.ylabel("Precio (USD)")
plt.legend()
plt.tight_layout()
plt.show()

# Intuición:
# Cuando la media corta (MA_3) cruza hacia arriba la larga (MA_6),
# puede indicar un cambio hacia una tendencia alcista,
# y viceversa para tendencia bajista.

# ------------------------------------------------
# 10. Detección de momentos de alta volatilidad
# ------------------------------------------------
umbral_vol = data["Retorno (%)"].std() * 1.5
data["Alta_volatilidad"] = abs(data["Retorno (%)"]) > umbral_vol

momentos_vol = data[data["Alta_volatilidad"] == True]
print(f"\nNúmero de momentos de alta volatilidad: {len(momentos_vol)}")

plt.figure(figsize=(10, 5))
plt.plot(data.index, data["Retorno (%)"], color="gray", linewidth=1)
plt.scatter(momentos_vol.index, momentos_vol["Retorno (%)"], color="red", label="Alta volatilidad")
plt.title("Puntos de alta volatilidad intradía")
plt.xlabel("Hora")
plt.ylabel("Retorno (%)")
plt.legend()
plt.tight_layout()
plt.show()

# Intuición:
# Estos picos representan momentos en los que hay gran incertidumbre,
# muchas órdenes de compra/venta o noticias relevantes.

# ------------------------------------------------
# 11. Distribución de los retornos
# ------------------------------------------------
plt.figure(figsize=(7, 4))
sns.histplot(data["Retorno (%)"].dropna(), kde=True, bins=20, color="skyblue")
plt.title(f"Distribución de los retornos intradía de {ticker}")
plt.xlabel("Retorno (%)")
plt.ylabel("Frecuencia")
plt.tight_layout()
plt.show()

# Interpretación:
# - Si la distribución está centrada en cero, el precio se mantiene estable.
# - Una cola larga a la izquierda indica caídas pronunciadas.
# - Una cola larga a la derecha indica subidas fuertes.

# ------------------------------------------------
# 12. Conexión con teoría de series de tiempo
# ------------------------------------------------
# Los conceptos aplicados aquí son fundamentales en análisis financiero:
# - Retornos: cambios porcentuales entre periodos sucesivos.
# - Volatilidad: medida de dispersión de los retornos.
# - Tendencia: dirección general del precio.
# - Ruido: fluctuaciones aleatorias no explicadas por el modelo.
# - Medias móviles: suavizan la serie para observar patrones más claros.

# ------------------------------------------------
# 13. Guardar resultados
# ------------------------------------------------
data.to_csv("resultados_intradias_detallados.csv", index=True)
print("\nArchivo guardado: resultados_intradias_detallados.csv")

# ------------------------------------------------
# 14. Conclusiones
# ------------------------------------------------
# 1. Los precios intradía muestran un comportamiento fluctuante,
#    resultado de las fuerzas de oferta y demanda.
# 2. Los retornos permiten cuantificar esos cambios
#    y analizar la rentabilidad instantánea.
# 3. La volatilidad actúa como un termómetro del riesgo.
# 4. Las medias móviles ayudan a detectar tendencias y señales.
# 5. En entornos reales, los analistas combinan estos indicadores
#    con modelos econométricos (ARIMA, GARCH, etc.)
#    para pronosticar y gestionar portafolios.

print("\nEJERCICIO COMPLETADO CON ÉXITO.")
