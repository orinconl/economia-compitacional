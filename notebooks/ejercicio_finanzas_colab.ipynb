# ================================================================
# Ejercicio: Análisis Intradía de un Activo Bursátil
# ================================================================
# Este ejercicio muestra cómo analizar el comportamiento intradía
# de una acción usando datos reales de Yahoo Finance.

# ------------------------------------------------
# 1. Librerías necesarias e instalación si faltan
# ------------------------------------------------
import sys, subprocess, importlib

def ensure(pkg):
    try:
        importlib.import_module(pkg)
    except ImportError:
        subprocess.check_call([sys.executable, "-m", "pip", "install", "-q", pkg])

for p in ["pandas", "yfinance", "matplotlib"]:
    ensure(p)

import pandas as pd
import yfinance as yf
import matplotlib.pyplot as plt
from datetime import datetime, timezone

print("Librerías listas.")

# -------------------------------------------
# 2. Descarga de datos intradía
# -------------------------------------------
ticker = "AAPL"      # símbolo bursátil de Apple
intervalo = "5m"      # intervalo de 5 minutos
periodo = "1d"        # un día reciente

print(f"\nDescargando datos de {ticker} ({periodo}, {intervalo})...")
df = yf.download(ticker, period=periodo, interval=intervalo, progress=False)

if df.empty:
    raise RuntimeError("No se recibieron datos. Cambia el ticker o usa period='5d'.")

df.index = df.index.tz_localize(None)
df.head()

# -------------------------------------------
# 3. Cálculo de retornos y análisis básico
# -------------------------------------------
df["Retorno_%"] = df["Close"].pct_change() * 100
precio_ini, precio_fin = df["Close"].iloc[0], df["Close"].iloc[-1]
rend_total = (precio_fin / precio_ini - 1) * 100
volatilidad = df["Retorno_%"].std()

print("\nResumen intradía:")
print(f"Precio inicial: {precio_ini:.2f} USD")
print(f"Precio final: {precio_fin:.2f} USD")
print(f"Retorno total: {rend_total:.3f} %")
print(f"Volatilidad (desviación estándar de retornos): {volatilidad:.3f} %")

# -------------------------------------------
# 4. Visualización
# -------------------------------------------
plt.figure(figsize=(12,5))
plt.plot(df.index, df["Close"], label="Precio de cierre", color="blue")
plt.title(f"Evolución intradía del precio de {ticker}")
plt.xlabel("Hora")
plt.ylabel("Precio (USD)")
plt.legend()
plt.grid(True)
plt.show()

plt.figure(figsize=(12,5))
plt.plot(df.index, df["Retorno_%"], color="red", label="Retorno (%)")
plt.axhline(0, color="black", linewidth=0.8)
plt.title(f"Rendimientos porcentuales intradía ({ticker})")
plt.xlabel("Hora")
plt.ylabel("Retorno (%)")
plt.legend()
plt.grid(True)
plt.show()

# -------------------------------------------
# 5. Interpretación
# -------------------------------------------
print("\nInterpretación económica:")
print("• La volatilidad intradía refleja la intensidad de la reacción del mercado ante información.")
print("• Un trader la usa para decidir cuándo abrir o cerrar posiciones.")
print("• Un economista observa cómo se ajustan las expectativas en lapsos muy cortos.")
print("• En activos tecnológicos (como Apple o Tesla) suele haber mayor actividad al inicio y al cierre.")

# -------------------------------------------
# 6. Ejercicio adicional
# -------------------------------------------
print("\nEjercicio adicional:")
print("Repite el análisis con otro activo (MSFT, TSLA, NVDA o una acción colombiana).")
print("Compara la volatilidad y comenta qué factores podrían explicarla.")
