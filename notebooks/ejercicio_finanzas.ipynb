{
 "cells": [
  {
   "cell_type": "markdown",
   "metadata": {},
   "source": [
    "# Análisis de series financieras y volatilidad\n",
    "\n",
    "Este cuaderno analiza el comportamiento de una acción bursátil (Apple Inc.) utilizando datos reales descargados desde Yahoo Finance.  \n",
    "El objetivo es conectar los conceptos teóricos de series financieras con la práctica aplicada en Python.  \n",
    "Cada paso incluye su explicación e intuición económica."
   ]
  },
  {
   "cell_type": "code",
   "execution_count": null,
   "metadata": {},
   "outputs": [],
   "source": [
    "# 1. Importación de librerías\n",
    "import pandas as pd\n",
    "import numpy as np\n",
    "import yfinance as yf\n",
    "import matplotlib.pyplot as plt\n",
    "import seaborn as sns\n",
    "from datetime import datetime\n",
    "\n",
    "plt.style.use('seaborn-v0_8-darkgrid')\n",
    "\n",
    "print('Librerías cargadas correctamente.')"
   ]
  },
  {
   "cell_type": "markdown",
   "metadata": {},
   "source": [
    "### Intuición\n",
    "Las librerías conforman el entorno básico para análisis financiero en Python.  \n",
    "- **pandas** organiza los datos.  \n",
    "- **numpy** realiza cálculos numéricos.  \n",
    "- **yfinance** descarga información real del mercado.  \n",
    "- **matplotlib** y **seaborn** permiten visualizar los resultados."
   ]
  },
  {
   "cell_type": "code",
   "execution_count": null,
   "metadata": {},
   "outputs": [],
   "source": [
    "# 2. Descarga de datos de Apple (AAPL)\n",
    "data = yf.download('AAPL', period='6mo', interval='1d')\n",
    "data.head()"
   ]
  },
  {
   "cell_type": "markdown",
   "metadata": {},
   "source": [
    "### Intuición\n",
    "Cada fila representa un día de negociación.  \n",
    "Las columnas muestran precios de apertura, máximo, mínimo, cierre y volumen.  \n",
    "Estos datos son la base del análisis de rendimiento, riesgo y volatilidad."
   ]
  },
  {
   "cell_type": "code",
   "execution_count": null,
   "metadata": {},
   "outputs": [],
   "source": [
    "# 3. Limpieza y exploración\n",
    "data.info()\n",
    "data = data.rename(columns={'Open':'Apertura','High':'Maximo','Low':'Minimo','Close':'Cierre','Volume':'Volumen'})\n",
    "data.head()"
   ]
  },
  {
   "cell_type": "markdown",
   "metadata": {},
   "source": [
    "### Intuición\n",
    "Siempre es necesario revisar la estructura de los datos.  \n",
    "Aquí verificamos tipos de variables y renombramos columnas para mayor claridad.  \n",
    "Esto previene errores en los cálculos posteriores."
   ]
  },
  {
   "cell_type": "code",
   "execution_count": null,
   "metadata": {},
   "outputs": [],
   "source": [
    "# 4. Cálculo de rendimientos diarios\n",
    "data['Rendimiento'] = data['Cierre'].pct_change() * 100\n",
    "data = data.dropna()\n",
    "data['Rendimiento'].describe()"
   ]
  },
  {
   "cell_type": "markdown",
   "metadata": {},
   "source": [
    "### Intuición\n",
    "El rendimiento mide el cambio porcentual diario del precio.  \n",
    "Es la variable principal en el análisis de series financieras.  \n",
    "Permite cuantificar la rentabilidad y la volatilidad de un activo."
   ]
  },
  {
   "cell_type": "code",
   "execution_count": null,
   "metadata": {},
   "outputs": [],
   "source": [
    "# 5. Visualización de precios y rendimientos\n",
    "fig, axes = plt.subplots(2, 1, figsize=(10, 8))\n",
    "axes[0].plot(data.index, data['Cierre'], color='blue')\n",
    "axes[0].set_title('Evolución del precio de cierre de Apple (AAPL)')\n",
    "axes[0].set_ylabel('Precio (USD)')\n",
    "\n",
    "axes[1].plot(data.index, data['Rendimiento'], color='orange')\n",
    "axes[1].set_title('Rendimientos diarios (%)')\n",
    "axes[1].set_ylabel('% diario')\n",
    "\n",
    "plt.tight_layout()\n",
    "plt.show()"
   ]
  },
  {
   "cell_type": "markdown",
   "metadata": {},
   "source": [
    "### Intuición\n",
    "Los precios muestran la tendencia del activo, mientras los rendimientos reflejan su variabilidad.  \n",
    "Las caídas o picos abruptos son evidencia de alta volatilidad."
   ]
  },
  {
   "cell_type": "code",
   "execution_count": null,
   "metadata": {},
   "outputs": [],
   "source": [
    "# 6. Medición de volatilidad\n",
    "vol_diaria = data['Rendimiento'].std()\n",
    "vol_anual = vol_diaria * np.sqrt(252)\n",
    "\n",
    "print(f'Volatilidad diaria promedio: {vol_diaria:.2f}%')\n",
    "print(f'Volatilidad anualizada: {vol_anual:.2f}%')"
   ]
  },
  {
   "cell_type": "markdown",
   "metadata": {},
   "source": [
    "### Intuición\n",
    "La desviación estándar de los rendimientos representa el riesgo del activo.  \n",
    "Cuanto más alta, mayor incertidumbre en los retornos.  \n",
    "La anualización permite comparar activos en horizontes temporales distintos."
   ]
  },
  {
   "cell_type": "code",
   "execution_count": null,
   "metadata": {},
   "outputs": [],
   "source": [
    "# 7. Distribución de rendimientos\n",
    "sns.histplot(data['Rendimiento'], bins=40, kde=True, color='purple')\n",
    "plt.title('Distribución de rendimientos diarios de Apple (AAPL)')\n",
    "plt.xlabel('Rendimiento diario (%)')\n",
    "plt.ylabel('Frecuencia')\n",
    "plt.show()"
   ]
  },
  {
   "cell_type": "markdown",
   "metadata": {},
   "source": [
    "### Intuición\n",
    "La forma de la distribución revela si los rendimientos son normales o si presentan colas largas.  \n",
    "Las colas pesadas implican una mayor probabilidad de eventos extremos, lo cual es común en los mercados financieros."
   ]
  },
  {
   "cell_type": "code",
   "execution_count": null,
   "metadata": {},
   "outputs": [],
   "source": [
    "# 8. Correlación entre varias acciones\n",
    "tickers = ['AAPL', 'MSFT', 'GOOG', 'AMZN']\n",
    "multi = yf.download(tickers, period='3mo')['Close']\n",
    "rend = multi.pct_change().dropna() * 100\n",
    "\n",
    "sns.heatmap(rend.corr(), annot=True, cmap='coolwarm')\n",
    "plt.title('Correlación entre rendimientos de acciones tecnológicas')\n",
    "plt.show()"
   ]
  },
  {
   "cell_type": "markdown",
   "metadata": {},
   "source": [
    "### Intuición\n",
    "La correlación mide qué tan coordinadamente se mueven los activos.  \n",
    "Correlaciones altas reducen los beneficios de diversificación.  \n",
    "Por eso, es un concepto esencial en gestión de portafolios."
   ]
  },
  {
   "cell_type": "code",
   "execution_count": null,
   "metadata": {},
   "outputs": [],
   "source": [
    "# 9. Valor en Riesgo (VaR) empírico\n",
    "var_95 = np.percentile(data['Rendimiento'], 5)\n",
    "print(f'Valor en riesgo diario (95% confianza): {var_95:.2f}%')"
   ]
  },
  {
   "cell_type": "markdown",
   "metadata": {},
   "source": [
    "### Intuición\n",
    "El Valor en Riesgo indica la pérdida máxima esperada con un 95% de confianza.  \n",
    "Si el VaR es -3%, significa que solo 5 de cada 100 días la pérdida superará el 3%."
   ]
  },
  {
   "cell_type": "code",
   "execution_count": null,
   "metadata": {},
   "outputs": [],
   "source": [
    "# 10. Conclusión\n",
    "media = data['Rendimiento'].mean()\n",
    "print('--- Resumen del análisis ---')\n",
    "print(f'Rendimiento promedio diario: {media:.2f}%')\n",
    "print(f'Volatilidad diaria: {vol_diaria:.2f}%')\n",
    "print(f'Valor en riesgo (95%): {var_95:.2f}%')\n",
    "print('\\nInterpretación económica:')\n",
    "print('La acción muestra una rentabilidad promedio positiva con riesgo moderado.')\n",
    "print('El valor en riesgo refleja la magnitud de pérdidas esperadas en escenarios adversos.')"
   ]
  }
 ],
 "metadata": {
  "kernelspec": {
   "display_name": "Python 3",
   "language": "python",
   "name": "python3"
  },
  "language_info": {
   "name": "python",
   "version": "3.x"
  }
 },
 "nbformat": 4,
 "nbformat_minor": 5
}
